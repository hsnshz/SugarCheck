{
 "cells": [
  {
   "cell_type": "markdown",
   "metadata": {},
   "source": [
    "# Machine Learning Algorithms Comparitive Analysis"
   ]
  },
  {
   "cell_type": "markdown",
   "metadata": {},
   "source": [
    "### Importing Libraries"
   ]
  },
  {
   "cell_type": "code",
   "execution_count": null,
   "metadata": {},
   "outputs": [],
   "source": [
    "# Importing Libraries\n",
    "import numpy as np\n",
    "import pandas as pd\n",
    "import tensorflow as tf\n",
    "import keras as k\n",
    "from keras.models import Sequential\n",
    "from keras.layers import Dense\n",
    "from scikeras.wrappers import KerasClassifier\n",
    "import sklearn as sk\n",
    "from sklearn import preprocessing\n",
    "from sklearn import model_selection\n",
    "from sklearn.metrics import  accuracy_score, f1_score, precision_score,confusion_matrix, recall_score, roc_auc_score\n",
    "from sklearn.model_selection import train_test_split\n",
    "from sklearn.preprocessing import MinMaxScaler\n",
    "from sklearn.linear_model import LogisticRegression\n",
    "from sklearn.tree import DecisionTreeClassifier\n",
    "from sklearn.ensemble import RandomForestClassifier\n",
    "import matplotlib.pyplot as plt\n",
    "import seaborn as sns"
   ]
  },
  {
   "cell_type": "markdown",
   "metadata": {},
   "source": [
    "### Importing Dataset"
   ]
  },
  {
   "cell_type": "code",
   "execution_count": null,
   "metadata": {},
   "outputs": [],
   "source": [
    "df = pd.read_csv('/Users/hassanshahzad/Desktop/Westminster/Year3/FinalYearProject/FYP-App/Dataset/diabetes_data_upload.csv')\n",
    "df.head()"
   ]
  },
  {
   "cell_type": "code",
   "execution_count": null,
   "metadata": {},
   "outputs": [],
   "source": [
    "# Checking for null values\n",
    "df.isna().sum()"
   ]
  },
  {
   "cell_type": "code",
   "execution_count": null,
   "metadata": {},
   "outputs": [],
   "source": [
    "# Checking for data types\n",
    "df.info()\n",
    "\n",
    "# Coverting columns to lower case\n",
    "df.columns = map(str.lower, df.columns)"
   ]
  },
  {
   "cell_type": "markdown",
   "metadata": {},
   "source": [
    "### Data Visualization"
   ]
  },
  {
   "cell_type": "code",
   "execution_count": null,
   "metadata": {},
   "outputs": [],
   "source": [
    "# Diabetes distribution by age\n",
    "plt.figure(figsize=(8,6))\n",
    "sns.histplot(df['age'],bins=30, color='royalblue', kde=True)  \n",
    "plt.title('Diabetes distribution by age', fontsize=16);"
   ]
  },
  {
   "cell_type": "code",
   "execution_count": null,
   "metadata": {},
   "outputs": [],
   "source": [
    "# Diabetes distribution by gender\n",
    "plt.title('Diabetes cases by Gender', fontsize=17)\n",
    "sns.countplot(x='gender', hue='class', data=df, palette=['#ff8080', '#78ebdc'])"
   ]
  },
  {
   "cell_type": "code",
   "execution_count": null,
   "metadata": {},
   "outputs": [],
   "source": [
    "# Bar plots for symptoms and diabetes cases\n",
    "count = 1\n",
    "plt.figure(figsize=(15,20))\n",
    "plt.suptitle('Correlation between Symptoms and Diabetes Cases'+ '\\n', fontsize=20)\n",
    "for i in df.columns:\n",
    "    if i not in ['class', 'age', 'gender']:\n",
    "        plt.subplot(5,4,count)\n",
    "        plt.title(f'{i.title()}', fontweight='bold', fontsize=14)\n",
    "        count +=1\n",
    "        plt.tight_layout()\n",
    "        total_count = df[i].value_counts()\n",
    "        total_percentage = total_count / total_count.sum() * 100\n",
    "        total_percentage.plot(kind=\"bar\", color=['royalblue','lightblue'])\n",
    "        plt.ylabel('Count')\n",
    "        plt.title(f'{i.title()}',fontweight='bold',fontsize=12)\n",
    "        for j, v in enumerate(total_percentage):\n",
    "            plt.text(j, v, f\"{v:.1f}%\", ha='center', va='bottom', fontweight='bold')\n",
    "plt.show()"
   ]
  },
  {
   "cell_type": "markdown",
   "metadata": {},
   "source": [
    "### Data Preprocessing"
   ]
  },
  {
   "cell_type": "code",
   "execution_count": null,
   "metadata": {},
   "outputs": [],
   "source": [
    "# Changing positive to 1 and negative to 0\n",
    "df['class'] = df['class'].replace({'Positive': 1, 'Negative': 0})\n",
    "\n",
    "# Seperating target feature from dataset\n",
    "X = df.drop('class', axis=1)\n",
    "y = df['class']\n",
    "\n",
    "# Storing features to list\n",
    "objectList = X.select_dtypes(include='object').columns.tolist()\n",
    "print(objectList)"
   ]
  },
  {
   "cell_type": "code",
   "execution_count": null,
   "metadata": {},
   "outputs": [],
   "source": [
    "# Label Encoding for object to numeric transformation\n",
    "encoder = preprocessing.LabelEncoder()\n",
    "\n",
    "for col in X.columns:\n",
    "    if X[col].dtype=='object':\n",
    "        X[col]=encoder.fit_transform(X[col])\n",
    "    \n",
    "# Printing datatypes of features    \n",
    "X.info()"
   ]
  },
  {
   "cell_type": "code",
   "execution_count": null,
   "metadata": {},
   "outputs": [],
   "source": [
    "# Printing first 5 rows of dataset\n",
    "X.head()"
   ]
  },
  {
   "cell_type": "code",
   "execution_count": null,
   "metadata": {},
   "outputs": [],
   "source": [
    "# Correlation between features and diabetes\n",
    "X.corrwith(y).plot(kind='bar', grid=True, figsize=(8, 4), title=\"Correlation with Diabetes\")"
   ]
  },
  {
   "cell_type": "code",
   "execution_count": null,
   "metadata": {},
   "outputs": [],
   "source": [
    "# Splitting the dataset into training and testing sets\n",
    "X_train, X_test, y_train, y_test = train_test_split(X, y, test_size=0.2, random_state=40)\n",
    "\n",
    "# Print the shapes of the training and testing sets\n",
    "print(\"Training set shape:\", X_train.shape, y_train.shape)\n",
    "print(\"Testing set shape:\", X_test.shape, y_test.shape)"
   ]
  },
  {
   "cell_type": "markdown",
   "metadata": {},
   "source": [
    "### Data Normalization"
   ]
  },
  {
   "cell_type": "code",
   "execution_count": null,
   "metadata": {},
   "outputs": [],
   "source": [
    "minmax = MinMaxScaler()\n",
    "X_train[['age']] = minmax.fit_transform(X_train[['age']])\n",
    "X_test[['age']] = minmax.transform(X_test[['age']])\n",
    "X_train.head()"
   ]
  },
  {
   "cell_type": "markdown",
   "metadata": {},
   "source": [
    "### Model Building"
   ]
  },
  {
   "cell_type": "markdown",
   "metadata": {},
   "source": [
    "##### Logistic Regression"
   ]
  },
  {
   "cell_type": "code",
   "execution_count": null,
   "metadata": {},
   "outputs": [],
   "source": [
    "lg = LogisticRegression(random_state=0, penalty='l2')\n",
    "lg.fit(X_train, y_train)"
   ]
  },
  {
   "cell_type": "code",
   "execution_count": null,
   "metadata": {},
   "outputs": [],
   "source": [
    "# Cross Validation\n",
    "kfold = model_selection.KFold(n_splits=10, random_state=7, shuffle=True)\n",
    "score = 'accuracy'\n",
    "\n",
    "acc_lg = model_selection.cross_val_score(lg, X_train, y_train, cv=kfold, scoring=score)\n",
    "acc_lg.mean()"
   ]
  },
  {
   "cell_type": "code",
   "execution_count": null,
   "metadata": {},
   "outputs": [],
   "source": [
    "# Evaluation Metrics\n",
    "y_pred_lg = lg.predict(X_test)\n",
    "\n",
    "lg_acc = accuracy_score(y_test, y_pred_lg)\n",
    "lg_roc = roc_auc_score(y_test, y_pred_lg)\n",
    "lg_prec = precision_score(y_test, y_pred_lg)\n",
    "lg_rec = recall_score(y_test, y_pred_lg)\n",
    "lg_f1 = f1_score(y_test, y_pred_lg)\n",
    "\n",
    "results_lg = pd.DataFrame([['Logistic Regression', lg_acc, acc_lg.mean(), lg_roc, lg_prec, lg_rec, lg_f1]], columns=['Model', 'Accuracy', 'Cross Val Accuracy', 'ROC', 'Precision', 'Recall', 'F1 Score'])\n",
    "\n",
    "results_lg"
   ]
  },
  {
   "cell_type": "markdown",
   "metadata": {},
   "source": [
    "##### Decision Trees Classifier"
   ]
  },
  {
   "cell_type": "code",
   "execution_count": null,
   "metadata": {},
   "outputs": [],
   "source": [
    "dt = DecisionTreeClassifier(criterion='gini', random_state=0)\n",
    "dt.fit(X_train, y_train)"
   ]
  },
  {
   "cell_type": "code",
   "execution_count": null,
   "metadata": {},
   "outputs": [],
   "source": [
    "# Cross Validation\n",
    "acc_dt = model_selection.cross_val_score(dt, X_train, y_train, cv = kfold, scoring = score)\n",
    "acc_dt.mean()"
   ]
  },
  {
   "cell_type": "code",
   "execution_count": null,
   "metadata": {},
   "outputs": [],
   "source": [
    "# Evaluation Metrics\n",
    "y_pred_dt = dt.predict(X_test)\n",
    "\n",
    "dt_acc = accuracy_score(y_test, y_pred_dt)\n",
    "dt_roc = roc_auc_score(y_test, y_pred_dt)\n",
    "dt_prec = precision_score(y_test, y_pred_dt)\n",
    "dt_rec = recall_score(y_test, y_pred_dt)\n",
    "dt_f1 = f1_score(y_test, y_pred_dt)\n",
    "\n",
    "results_dt = pd.DataFrame([['Decision Trees Classifier', dt_acc, acc_dt.mean(), dt_roc, dt_prec, dt_rec, dt_f1]], columns=['Model', 'Accuracy', 'Cross Val Accuracy', 'ROC', 'Precision', 'Recall', 'F1 Score'])\n",
    "\n",
    "results_dt"
   ]
  },
  {
   "cell_type": "markdown",
   "metadata": {},
   "source": [
    "##### Random Forest Classifier"
   ]
  },
  {
   "cell_type": "code",
   "execution_count": null,
   "metadata": {},
   "outputs": [],
   "source": [
    "estimators = 100\n",
    "\n",
    "for i in range(1, estimators):\n",
    "    rf = RandomForestClassifier(n_estimators=i, criterion='entropy', random_state=0)\n",
    "    rf.fit(X_train, y_train)"
   ]
  },
  {
   "cell_type": "code",
   "execution_count": null,
   "metadata": {},
   "outputs": [],
   "source": [
    "# Cross Validation\n",
    "acc_rf = model_selection.cross_val_score(rf, X_train, y_train, cv = kfold, scoring = score)\n",
    "acc_rf.mean()"
   ]
  },
  {
   "cell_type": "code",
   "execution_count": null,
   "metadata": {},
   "outputs": [],
   "source": [
    "# Evaluation Metrics\n",
    "y_pred_rf = rf.predict(X_test)\n",
    "\n",
    "rf_acc = accuracy_score(y_test, y_pred_rf)\n",
    "rf_roc = roc_auc_score(y_test, y_pred_rf)\n",
    "rf_prec = precision_score(y_test, y_pred_rf)\n",
    "rf_rec = recall_score(y_test, y_pred_rf)\n",
    "rf_f1 = f1_score(y_test, y_pred_rf)\n",
    "\n",
    "results_rf = pd.DataFrame([['Random Forest Classifier', rf_acc, acc_rf.mean(), rf_roc, rf_prec, rf_rec, rf_f1]], columns=['Model', 'Accuracy', 'Cross Val Accuracy', 'ROC', 'Precision', 'Recall', 'F1 Score'])\n",
    "\n",
    "results_rf"
   ]
  },
  {
   "cell_type": "markdown",
   "metadata": {},
   "source": [
    "##### Neural Networks"
   ]
  },
  {
   "cell_type": "code",
   "execution_count": null,
   "metadata": {},
   "outputs": [],
   "source": [
    "# Function to create model, required for KerasClassifier\n",
    "def create_model():\n",
    "    model = Sequential()\n",
    "    model.add(Dense(12, input_dim=16, activation='relu'))\n",
    "    model.add(Dense(8, activation='relu'))\n",
    "    model.add(Dense(1, activation='sigmoid'))\n",
    "    model.compile(loss='binary_crossentropy', optimizer='adam', metrics=['accuracy'])\n",
    "    return model\n",
    "\n",
    "# Wrap Keras model with KerasClassifier\n",
    "nn = KerasClassifier(build_fn=create_model, epochs=100, batch_size=5, verbose=0)\n",
    "\n",
    "nn.fit(X_train, y_train)"
   ]
  },
  {
   "cell_type": "code",
   "execution_count": null,
   "metadata": {},
   "outputs": [],
   "source": [
    "# Cross Validation\n",
    "kfold_nn = model_selection.StratifiedKFold(n_splits=10, shuffle=True, random_state=7)\n",
    "acc_nn = model_selection.cross_val_score(nn, X_train, y_train, cv = kfold_nn, scoring = score)\n",
    "\n",
    "acc_nn.mean()"
   ]
  },
  {
   "cell_type": "code",
   "execution_count": null,
   "metadata": {},
   "outputs": [],
   "source": [
    "# Evaluation Metrics\n",
    "y_pred_nn = nn.predict(X_test)\n",
    "\n",
    "nn_acc = accuracy_score(y_test, y_pred_nn)\n",
    "nn_roc = roc_auc_score(y_test, y_pred_nn)\n",
    "nn_prec = precision_score(y_test, y_pred_nn)\n",
    "nn_rec = recall_score(y_test, y_pred_nn)\n",
    "nn_f1 = f1_score(y_test, y_pred_nn)\n",
    "\n",
    "results_nn = pd.DataFrame([['Neural Network', nn_acc, acc_nn.mean(), nn_roc, nn_prec, nn_rec, nn_f1]], columns=['Model', 'Accuracy', 'Cross Val Accuracy', 'ROC', 'Precision', 'Recall', 'F1 Score'])\n",
    "results_nn"
   ]
  },
  {
   "cell_type": "code",
   "execution_count": 276,
   "metadata": {},
   "outputs": [
    {
     "data": {
      "text/html": [
       "<div>\n",
       "<style scoped>\n",
       "    .dataframe tbody tr th:only-of-type {\n",
       "        vertical-align: middle;\n",
       "    }\n",
       "\n",
       "    .dataframe tbody tr th {\n",
       "        vertical-align: top;\n",
       "    }\n",
       "\n",
       "    .dataframe thead th {\n",
       "        text-align: right;\n",
       "    }\n",
       "</style>\n",
       "<table border=\"1\" class=\"dataframe\">\n",
       "  <thead>\n",
       "    <tr style=\"text-align: right;\">\n",
       "      <th></th>\n",
       "      <th>Model</th>\n",
       "      <th>Accuracy</th>\n",
       "      <th>Cross Val Accuracy</th>\n",
       "      <th>ROC</th>\n",
       "      <th>Precision</th>\n",
       "      <th>Recall</th>\n",
       "      <th>F1 Score</th>\n",
       "    </tr>\n",
       "  </thead>\n",
       "  <tbody>\n",
       "    <tr>\n",
       "      <th>0</th>\n",
       "      <td>Logistic Regression</td>\n",
       "      <td>90.384615</td>\n",
       "      <td>90.384615</td>\n",
       "      <td>90.454545</td>\n",
       "      <td>93.103448</td>\n",
       "      <td>90.000000</td>\n",
       "      <td>91.525424</td>\n",
       "    </tr>\n",
       "    <tr>\n",
       "      <th>1</th>\n",
       "      <td>Decision Trees Classifier</td>\n",
       "      <td>96.153846</td>\n",
       "      <td>96.153846</td>\n",
       "      <td>96.060606</td>\n",
       "      <td>96.666667</td>\n",
       "      <td>96.666667</td>\n",
       "      <td>96.666667</td>\n",
       "    </tr>\n",
       "    <tr>\n",
       "      <th>2</th>\n",
       "      <td>Random Forest Classifier</td>\n",
       "      <td>96.153846</td>\n",
       "      <td>96.153846</td>\n",
       "      <td>95.757576</td>\n",
       "      <td>95.161290</td>\n",
       "      <td>98.333333</td>\n",
       "      <td>96.721311</td>\n",
       "    </tr>\n",
       "    <tr>\n",
       "      <th>3</th>\n",
       "      <td>Neural Networks</td>\n",
       "      <td>95.192308</td>\n",
       "      <td>95.192308</td>\n",
       "      <td>95.227273</td>\n",
       "      <td>96.610169</td>\n",
       "      <td>95.000000</td>\n",
       "      <td>95.798319</td>\n",
       "    </tr>\n",
       "  </tbody>\n",
       "</table>\n",
       "</div>"
      ],
      "text/plain": [
       "                       Model   Accuracy  Cross Val Accuracy        ROC  \\\n",
       "0        Logistic Regression  90.384615           90.384615  90.454545   \n",
       "1  Decision Trees Classifier  96.153846           96.153846  96.060606   \n",
       "2   Random Forest Classifier  96.153846           96.153846  95.757576   \n",
       "3            Neural Networks  95.192308           95.192308  95.227273   \n",
       "\n",
       "   Precision     Recall   F1 Score  \n",
       "0  93.103448  90.000000  91.525424  \n",
       "1  96.666667  96.666667  96.666667  \n",
       "2  95.161290  98.333333  96.721311  \n",
       "3  96.610169  95.000000  95.798319  "
      ]
     },
     "execution_count": 276,
     "metadata": {},
     "output_type": "execute_result"
    },
    {
     "data": {
      "image/png": "[encoded data removed]",
      "text/plain": [
       "<Figure size 640x480 with 1 Axes>"
      ]
     },
     "metadata": {},
     "output_type": "display_data"
    }
   ],
   "source": [
    "# Initialize a DataFrame to store the results\n",
    "final_results = pd.DataFrame(columns=['Model', 'Accuracy', 'Cross Val Accuracy', 'ROC', 'Precision', 'Recall', 'F1 Score'])\n",
    "\n",
    "# List of models and their names\n",
    "models = [lg, dt, rf, nn]\n",
    "model_names = ['Logistic Regression', 'Decision Trees Classifier', 'Random Forest Classifier', 'Neural Networks']\n",
    "\n",
    "for model, name in zip(models, model_names):\n",
    "    # Predict the test set results\n",
    "    y_pred = model.predict(X_test)\n",
    "\n",
    "    # Calculate the evaluation metrics\n",
    "    acc = accuracy_score(y_test, y_pred) * 100\n",
    "    roc = roc_auc_score(y_test, y_pred) * 100\n",
    "    prec = precision_score(y_test, y_pred) * 100\n",
    "    rec = recall_score(y_test, y_pred) * 100\n",
    "    f1 = f1_score(y_test, y_pred) * 100\n",
    "\n",
    "    # Append the results to the DataFrame\n",
    "    final_results = pd.concat([final_results, pd.DataFrame({'Model': [name], 'Accuracy': [acc], 'Cross Val Accuracy': [acc.mean()], 'ROC': [roc], 'Precision': [prec], 'Recall': [rec], 'F1 Score': [f1]})], ignore_index=True)\n",
    "\n",
    "final_results.plot(x='Model', y='Accuracy', kind='bar', title='Comparison of Model Accuracies', xlabel='Models', rot=20)\n",
    "plt.ylabel('Accuracy', rotation=0, ha='right')\n",
    "plt.gca().get_legend().remove()\n",
    "\n",
    "# Add percentage labels to the bars\n",
    "for i, v in enumerate(final_results['Accuracy']):\n",
    "    plt.text(i, v, f\"{v:.2f}\", ha='right', va='bottom')\n",
    "    \n",
    "# Print the final results\n",
    "final_results\n"
   ]
  }
 ],
 "metadata": {
  "kernelspec": {
   "display_name": "base",
   "language": "python",
   "name": "python3"
  },
  "language_info": {
   "codemirror_mode": {
    "name": "ipython",
    "version": 3
   },
   "file_extension": ".py",
   "mimetype": "text/x-python",
   "name": "python",
   "nbconvert_exporter": "python",
   "pygments_lexer": "ipython3",
   "version": "3.11.4"
  }
 },
 "nbformat": 4,
 "nbformat_minor": 2
}
